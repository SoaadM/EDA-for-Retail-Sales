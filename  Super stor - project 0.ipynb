{
 "cells": [
  {
   "cell_type": "code",
   "execution_count": 139,
   "id": "dc0b7717",
   "metadata": {},
   "outputs": [],
   "source": [
    "import warnings\n",
    "warnings.filterwarnings('ignore')"
   ]
  },
  {
   "cell_type": "code",
   "execution_count": 140,
   "id": "bcc1106d",
   "metadata": {},
   "outputs": [],
   "source": [
    "import pandas as pd\n",
    "import matplotlib.pyplot as plt\n",
    "import numpy as np\n",
    "from sklearn import datasets\n",
    "import seaborn as sns\n",
    "%matplotlib inline "
   ]
  },
  {
   "cell_type": "code",
   "execution_count": 141,
   "id": "9af6dd15",
   "metadata": {},
   "outputs": [],
   "source": [
    "df = pd.read_csv('/Users/soaadaljafr/Downloads/superstore_dataset2011-2015.csv') \n"
   ]
  },
  {
   "cell_type": "code",
   "execution_count": 142,
   "id": "b80f4aee",
   "metadata": {},
   "outputs": [
    {
     "name": "stdout",
     "output_type": "stream",
     "text": [
      "<class 'pandas.core.frame.DataFrame'>\n",
      "RangeIndex: 51290 entries, 0 to 51289\n",
      "Data columns (total 24 columns):\n",
      " #   Column          Non-Null Count  Dtype  \n",
      "---  ------          --------------  -----  \n",
      " 0   Row ID          51290 non-null  int64  \n",
      " 1   Order ID        51290 non-null  object \n",
      " 2   Order Date      51290 non-null  object \n",
      " 3   Ship Date       51290 non-null  object \n",
      " 4   Ship Mode       51290 non-null  object \n",
      " 5   Customer ID     51290 non-null  object \n",
      " 6   Customer Name   51290 non-null  object \n",
      " 7   Segment         51290 non-null  object \n",
      " 8   City            51290 non-null  object \n",
      " 9   State           51290 non-null  object \n",
      " 10  Country         51290 non-null  object \n",
      " 11  Postal Code     9994 non-null   float64\n",
      " 12  Market          51290 non-null  object \n",
      " 13  Region          51290 non-null  object \n",
      " 14  Product ID      51290 non-null  object \n",
      " 15  Category        51290 non-null  object \n",
      " 16  Sub-Category    51290 non-null  object \n",
      " 17  Product Name    51290 non-null  object \n",
      " 18  Sales           51290 non-null  float64\n",
      " 19  Quantity        51290 non-null  int64  \n",
      " 20  Discount        51290 non-null  float64\n",
      " 21  Profit          51290 non-null  float64\n",
      " 22  Shipping Cost   51290 non-null  float64\n",
      " 23  Order Priority  51290 non-null  object \n",
      "dtypes: float64(5), int64(2), object(17)\n",
      "memory usage: 9.4+ MB\n"
     ]
    }
   ],
   "source": [
    "df.info()\n"
   ]
  },
  {
   "cell_type": "code",
   "execution_count": 143,
   "id": "739c7376",
   "metadata": {},
   "outputs": [
    {
     "data": {
      "text/html": [
       "<div>\n",
       "<style scoped>\n",
       "    .dataframe tbody tr th:only-of-type {\n",
       "        vertical-align: middle;\n",
       "    }\n",
       "\n",
       "    .dataframe tbody tr th {\n",
       "        vertical-align: top;\n",
       "    }\n",
       "\n",
       "    .dataframe thead th {\n",
       "        text-align: right;\n",
       "    }\n",
       "</style>\n",
       "<table border=\"1\" class=\"dataframe\">\n",
       "  <thead>\n",
       "    <tr style=\"text-align: right;\">\n",
       "      <th></th>\n",
       "      <th>Row ID</th>\n",
       "      <th>Postal Code</th>\n",
       "      <th>Sales</th>\n",
       "      <th>Quantity</th>\n",
       "      <th>Discount</th>\n",
       "      <th>Profit</th>\n",
       "      <th>Shipping Cost</th>\n",
       "    </tr>\n",
       "  </thead>\n",
       "  <tbody>\n",
       "    <tr>\n",
       "      <th>count</th>\n",
       "      <td>51290.00000</td>\n",
       "      <td>9994.000000</td>\n",
       "      <td>51290.000000</td>\n",
       "      <td>51290.000000</td>\n",
       "      <td>51290.000000</td>\n",
       "      <td>51290.000000</td>\n",
       "      <td>51290.000000</td>\n",
       "    </tr>\n",
       "    <tr>\n",
       "      <th>mean</th>\n",
       "      <td>25645.50000</td>\n",
       "      <td>55190.379428</td>\n",
       "      <td>246.490581</td>\n",
       "      <td>3.476545</td>\n",
       "      <td>0.142908</td>\n",
       "      <td>28.610982</td>\n",
       "      <td>26.375915</td>\n",
       "    </tr>\n",
       "    <tr>\n",
       "      <th>std</th>\n",
       "      <td>14806.29199</td>\n",
       "      <td>32063.693350</td>\n",
       "      <td>487.565361</td>\n",
       "      <td>2.278766</td>\n",
       "      <td>0.212280</td>\n",
       "      <td>174.340972</td>\n",
       "      <td>57.296804</td>\n",
       "    </tr>\n",
       "    <tr>\n",
       "      <th>min</th>\n",
       "      <td>1.00000</td>\n",
       "      <td>1040.000000</td>\n",
       "      <td>0.444000</td>\n",
       "      <td>1.000000</td>\n",
       "      <td>0.000000</td>\n",
       "      <td>-6599.978000</td>\n",
       "      <td>0.000000</td>\n",
       "    </tr>\n",
       "    <tr>\n",
       "      <th>25%</th>\n",
       "      <td>12823.25000</td>\n",
       "      <td>23223.000000</td>\n",
       "      <td>30.758625</td>\n",
       "      <td>2.000000</td>\n",
       "      <td>0.000000</td>\n",
       "      <td>0.000000</td>\n",
       "      <td>2.610000</td>\n",
       "    </tr>\n",
       "    <tr>\n",
       "      <th>50%</th>\n",
       "      <td>25645.50000</td>\n",
       "      <td>56430.500000</td>\n",
       "      <td>85.053000</td>\n",
       "      <td>3.000000</td>\n",
       "      <td>0.000000</td>\n",
       "      <td>9.240000</td>\n",
       "      <td>7.790000</td>\n",
       "    </tr>\n",
       "    <tr>\n",
       "      <th>75%</th>\n",
       "      <td>38467.75000</td>\n",
       "      <td>90008.000000</td>\n",
       "      <td>251.053200</td>\n",
       "      <td>5.000000</td>\n",
       "      <td>0.200000</td>\n",
       "      <td>36.810000</td>\n",
       "      <td>24.450000</td>\n",
       "    </tr>\n",
       "    <tr>\n",
       "      <th>max</th>\n",
       "      <td>51290.00000</td>\n",
       "      <td>99301.000000</td>\n",
       "      <td>22638.480000</td>\n",
       "      <td>14.000000</td>\n",
       "      <td>0.850000</td>\n",
       "      <td>8399.976000</td>\n",
       "      <td>933.570000</td>\n",
       "    </tr>\n",
       "  </tbody>\n",
       "</table>\n",
       "</div>"
      ],
      "text/plain": [
       "            Row ID   Postal Code         Sales      Quantity      Discount  \\\n",
       "count  51290.00000   9994.000000  51290.000000  51290.000000  51290.000000   \n",
       "mean   25645.50000  55190.379428    246.490581      3.476545      0.142908   \n",
       "std    14806.29199  32063.693350    487.565361      2.278766      0.212280   \n",
       "min        1.00000   1040.000000      0.444000      1.000000      0.000000   \n",
       "25%    12823.25000  23223.000000     30.758625      2.000000      0.000000   \n",
       "50%    25645.50000  56430.500000     85.053000      3.000000      0.000000   \n",
       "75%    38467.75000  90008.000000    251.053200      5.000000      0.200000   \n",
       "max    51290.00000  99301.000000  22638.480000     14.000000      0.850000   \n",
       "\n",
       "             Profit  Shipping Cost  \n",
       "count  51290.000000   51290.000000  \n",
       "mean      28.610982      26.375915  \n",
       "std      174.340972      57.296804  \n",
       "min    -6599.978000       0.000000  \n",
       "25%        0.000000       2.610000  \n",
       "50%        9.240000       7.790000  \n",
       "75%       36.810000      24.450000  \n",
       "max     8399.976000     933.570000  "
      ]
     },
     "execution_count": 143,
     "metadata": {},
     "output_type": "execute_result"
    }
   ],
   "source": [
    "df.describe()"
   ]
  },
  {
   "cell_type": "code",
   "execution_count": 144,
   "id": "890130bd",
   "metadata": {
    "scrolled": true
   },
   "outputs": [
    {
     "data": {
      "text/plain": [
       "Row ID              int64\n",
       "Order ID           object\n",
       "Order Date         object\n",
       "Ship Date          object\n",
       "Ship Mode          object\n",
       "Customer ID        object\n",
       "Customer Name      object\n",
       "Segment            object\n",
       "City               object\n",
       "State              object\n",
       "Country            object\n",
       "Postal Code       float64\n",
       "Market             object\n",
       "Region             object\n",
       "Product ID         object\n",
       "Category           object\n",
       "Sub-Category       object\n",
       "Product Name       object\n",
       "Sales             float64\n",
       "Quantity            int64\n",
       "Discount          float64\n",
       "Profit            float64\n",
       "Shipping Cost     float64\n",
       "Order Priority     object\n",
       "dtype: object"
      ]
     },
     "execution_count": 144,
     "metadata": {},
     "output_type": "execute_result"
    }
   ],
   "source": [
    "df.head()\n",
    "df.columns\n",
    "df.dtypes\n"
   ]
  },
  {
   "cell_type": "code",
   "execution_count": 145,
   "id": "214687bc",
   "metadata": {},
   "outputs": [
    {
     "data": {
      "text/plain": [
       "Row ID                0\n",
       "Order ID              0\n",
       "Order Date            0\n",
       "Ship Date             0\n",
       "Ship Mode             0\n",
       "Customer ID           0\n",
       "Customer Name         0\n",
       "Segment               0\n",
       "City                  0\n",
       "State                 0\n",
       "Country               0\n",
       "Postal Code       41296\n",
       "Market                0\n",
       "Region                0\n",
       "Product ID            0\n",
       "Category              0\n",
       "Sub-Category          0\n",
       "Product Name          0\n",
       "Sales                 0\n",
       "Quantity              0\n",
       "Discount              0\n",
       "Profit                0\n",
       "Shipping Cost         0\n",
       "Order Priority        0\n",
       "dtype: int64"
      ]
     },
     "execution_count": 145,
     "metadata": {},
     "output_type": "execute_result"
    }
   ],
   "source": [
    "df.isna().sum()"
   ]
  },
  {
   "cell_type": "code",
   "execution_count": 146,
   "id": "51eb8e6f",
   "metadata": {},
   "outputs": [
    {
     "data": {
      "text/plain": [
       "(51290, 24)"
      ]
     },
     "execution_count": 146,
     "metadata": {},
     "output_type": "execute_result"
    }
   ],
   "source": [
    "df.shape"
   ]
  },
  {
   "cell_type": "code",
   "execution_count": 147,
   "id": "6375d59c",
   "metadata": {},
   "outputs": [],
   "source": [
    "df['Order Date'] = pd.to_datetime(df['Order Date'])"
   ]
  },
  {
   "cell_type": "code",
   "execution_count": 148,
   "id": "8a571b2f",
   "metadata": {},
   "outputs": [
    {
     "data": {
      "text/plain": [
       "<bound method Series.unique of 0        Constantine\n",
       "1        Wagga Wagga\n",
       "2           Budapest\n",
       "3          Stockholm\n",
       "4        Wagga Wagga\n",
       "            ...     \n",
       "51285      Fairfield\n",
       "51286         Agadir\n",
       "51287        Managua\n",
       "51288         Ju�rez\n",
       "51289       Loveland\n",
       "Name: City, Length: 51290, dtype: object>"
      ]
     },
     "execution_count": 148,
     "metadata": {},
     "output_type": "execute_result"
    }
   ],
   "source": [
    "df.City.unique"
   ]
  },
  {
   "cell_type": "code",
   "execution_count": 149,
   "id": "2d983ac2",
   "metadata": {},
   "outputs": [],
   "source": [
    "df.rename(columns={'Customer ID' : 'Customer_ID'}, inplace=True)"
   ]
  },
  {
   "cell_type": "code",
   "execution_count": 150,
   "id": "f710a237",
   "metadata": {
    "scrolled": true
   },
   "outputs": [
    {
     "data": {
      "text/plain": [
       "<bound method Series.unique of 0        TB-11280\n",
       "1        JH-15985\n",
       "2          AT-735\n",
       "3        EM-14140\n",
       "4        JH-15985\n",
       "           ...   \n",
       "51285    EB-13975\n",
       "51286     LP-7095\n",
       "51287    CM-12190\n",
       "51288    TD-20995\n",
       "51289    JM-15580\n",
       "Name: Customer_ID, Length: 51290, dtype: object>"
      ]
     },
     "execution_count": 150,
     "metadata": {},
     "output_type": "execute_result"
    }
   ],
   "source": [
    "df.Customer_ID.unique"
   ]
  },
  {
   "cell_type": "code",
   "execution_count": 151,
   "id": "5218294d",
   "metadata": {},
   "outputs": [
    {
     "data": {
      "text/plain": [
       "51285    EB-13975\n",
       "51286     LP-7095\n",
       "51287    CM-12190\n",
       "51288    TD-20995\n",
       "51289    JM-15580\n",
       "Name: Customer_ID, dtype: object"
      ]
     },
     "execution_count": 151,
     "metadata": {},
     "output_type": "execute_result"
    }
   ],
   "source": [
    "df.Customer_ID.tail()"
   ]
  },
  {
   "cell_type": "code",
   "execution_count": 152,
   "id": "4aa0be9e",
   "metadata": {},
   "outputs": [
    {
     "data": {
      "text/plain": [
       "'ZD-21925'"
      ]
     },
     "execution_count": 152,
     "metadata": {},
     "output_type": "execute_result"
    }
   ],
   "source": [
    "df['Customer_ID'].max()"
   ]
  },
  {
   "cell_type": "code",
   "execution_count": 153,
   "id": "547309fe",
   "metadata": {},
   "outputs": [],
   "source": [
    "#What is the best salling catogry our customer like?\n"
   ]
  },
  {
   "cell_type": "code",
   "execution_count": 154,
   "id": "fa4d5faf",
   "metadata": {
    "scrolled": true
   },
   "outputs": [
    {
     "data": {
      "image/png": "[encoded data removed]",
      "text/plain": [
       "<Figure size 432x288 with 1 Axes>"
      ]
     },
     "metadata": {
      "needs_background": "light"
     },
     "output_type": "display_data"
    }
   ],
   "source": [
    "sns.countplot(x='Category',  data=df,  palette=['#EC5856']);\n",
    "sns.set_style('white')\n",
    "sns.despine()\n",
    "plt.xlabel('')\n",
    "plt.tight_layout();"
   ]
  },
  {
   "cell_type": "code",
   "execution_count": 155,
   "id": "b9dc0ea4",
   "metadata": {},
   "outputs": [],
   "source": [
    "#df.groupby(['Sales','Quantity']).size().unstack().plot(kind='bar',stacked=False,color=['#BA9603','#E6BA06','#FFCE00'])\n",
    "#plt.show(5)"
   ]
  },
  {
   "cell_type": "code",
   "execution_count": 156,
   "id": "5f04f9f2",
   "metadata": {},
   "outputs": [],
   "source": [
    "#df.boxplot(by = 'Sales');"
   ]
  },
  {
   "cell_type": "code",
   "execution_count": 157,
   "id": "1131cc6a",
   "metadata": {
    "scrolled": true
   },
   "outputs": [
    {
     "data": {
      "text/html": [
       "<div>\n",
       "<style scoped>\n",
       "    .dataframe tbody tr th:only-of-type {\n",
       "        vertical-align: middle;\n",
       "    }\n",
       "\n",
       "    .dataframe tbody tr th {\n",
       "        vertical-align: top;\n",
       "    }\n",
       "\n",
       "    .dataframe thead th {\n",
       "        text-align: right;\n",
       "    }\n",
       "</style>\n",
       "<table border=\"1\" class=\"dataframe\">\n",
       "  <thead>\n",
       "    <tr style=\"text-align: right;\">\n",
       "      <th></th>\n",
       "      <th>Row ID</th>\n",
       "      <th>Postal Code</th>\n",
       "      <th>Sales</th>\n",
       "      <th>Quantity</th>\n",
       "      <th>Discount</th>\n",
       "      <th>Profit</th>\n",
       "      <th>Shipping Cost</th>\n",
       "    </tr>\n",
       "    <tr>\n",
       "      <th>Category</th>\n",
       "      <th></th>\n",
       "      <th></th>\n",
       "      <th></th>\n",
       "      <th></th>\n",
       "      <th></th>\n",
       "      <th></th>\n",
       "      <th></th>\n",
       "    </tr>\n",
       "  </thead>\n",
       "  <tbody>\n",
       "    <tr>\n",
       "      <th>Furniture</th>\n",
       "      <td>241487920</td>\n",
       "      <td>118196026.0</td>\n",
       "      <td>4.110874e+06</td>\n",
       "      <td>34954</td>\n",
       "      <td>1660.030</td>\n",
       "      <td>285204.72380</td>\n",
       "      <td>440320.66</td>\n",
       "    </tr>\n",
       "    <tr>\n",
       "      <th>Office Supplies</th>\n",
       "      <td>815386724</td>\n",
       "      <td>330772872.0</td>\n",
       "      <td>3.787070e+06</td>\n",
       "      <td>108182</td>\n",
       "      <td>4297.190</td>\n",
       "      <td>518473.83430</td>\n",
       "      <td>405451.29</td>\n",
       "    </tr>\n",
       "    <tr>\n",
       "      <th>Technology</th>\n",
       "      <td>258483051</td>\n",
       "      <td>102603754.0</td>\n",
       "      <td>4.744557e+06</td>\n",
       "      <td>35176</td>\n",
       "      <td>1372.508</td>\n",
       "      <td>663778.73318</td>\n",
       "      <td>507048.74</td>\n",
       "    </tr>\n",
       "  </tbody>\n",
       "</table>\n",
       "</div>"
      ],
      "text/plain": [
       "                    Row ID  Postal Code         Sales  Quantity  Discount  \\\n",
       "Category                                                                    \n",
       "Furniture        241487920  118196026.0  4.110874e+06     34954  1660.030   \n",
       "Office Supplies  815386724  330772872.0  3.787070e+06    108182  4297.190   \n",
       "Technology       258483051  102603754.0  4.744557e+06     35176  1372.508   \n",
       "\n",
       "                       Profit  Shipping Cost  \n",
       "Category                                      \n",
       "Furniture        285204.72380      440320.66  \n",
       "Office Supplies  518473.83430      405451.29  \n",
       "Technology       663778.73318      507048.74  "
      ]
     },
     "execution_count": 157,
     "metadata": {},
     "output_type": "execute_result"
    }
   ],
   "source": [
    "df.groupby('Category').sum()"
   ]
  },
  {
   "cell_type": "code",
   "execution_count": 158,
   "id": "a149ce33",
   "metadata": {
    "scrolled": true
   },
   "outputs": [
    {
     "data": {
      "text/plain": [
       "Office Supplies    31273\n",
       "Technology         10141\n",
       "Furniture           9876\n",
       "Name: Category, dtype: int64"
      ]
     },
     "execution_count": 158,
     "metadata": {},
     "output_type": "execute_result"
    }
   ],
   "source": [
    "df.Category.value_counts()#.agg('max')\n"
   ]
  },
  {
   "cell_type": "code",
   "execution_count": 198,
   "id": "e96a89d4",
   "metadata": {
    "scrolled": true
   },
   "outputs": [
    {
     "data": {
      "text/plain": [
       "<bound method Series.unique of 0        Office Supplies\n",
       "1        Office Supplies\n",
       "2        Office Supplies\n",
       "3        Office Supplies\n",
       "4              Furniture\n",
       "              ...       \n",
       "51285    Office Supplies\n",
       "51286    Office Supplies\n",
       "51287    Office Supplies\n",
       "51288    Office Supplies\n",
       "51289    Office Supplies\n",
       "Name: Category, Length: 51290, dtype: object>"
      ]
     },
     "execution_count": 198,
     "metadata": {},
     "output_type": "execute_result"
    }
   ],
   "source": [
    "df.Category.unique"
   ]
  },
  {
   "cell_type": "code",
   "execution_count": 160,
   "id": "2461adf2",
   "metadata": {},
   "outputs": [
    {
     "data": {
      "text/html": [
       "<div>\n",
       "<style scoped>\n",
       "    .dataframe tbody tr th:only-of-type {\n",
       "        vertical-align: middle;\n",
       "    }\n",
       "\n",
       "    .dataframe tbody tr th {\n",
       "        vertical-align: top;\n",
       "    }\n",
       "\n",
       "    .dataframe thead th {\n",
       "        text-align: right;\n",
       "    }\n",
       "</style>\n",
       "<table border=\"1\" class=\"dataframe\">\n",
       "  <thead>\n",
       "    <tr style=\"text-align: right;\">\n",
       "      <th></th>\n",
       "      <th>Row ID</th>\n",
       "      <th>Order ID</th>\n",
       "      <th>Order Date</th>\n",
       "      <th>Ship Date</th>\n",
       "      <th>Ship Mode</th>\n",
       "      <th>Customer_ID</th>\n",
       "      <th>Customer Name</th>\n",
       "      <th>Segment</th>\n",
       "      <th>City</th>\n",
       "      <th>State</th>\n",
       "      <th>...</th>\n",
       "      <th>Product ID</th>\n",
       "      <th>Category</th>\n",
       "      <th>Sub-Category</th>\n",
       "      <th>Product Name</th>\n",
       "      <th>Sales</th>\n",
       "      <th>Quantity</th>\n",
       "      <th>Discount</th>\n",
       "      <th>Profit</th>\n",
       "      <th>Shipping Cost</th>\n",
       "      <th>Order Priority</th>\n",
       "    </tr>\n",
       "  </thead>\n",
       "  <tbody>\n",
       "    <tr>\n",
       "      <th>0</th>\n",
       "      <td>42433</td>\n",
       "      <td>AG-2011-2040</td>\n",
       "      <td>2011-01-01</td>\n",
       "      <td>6/1/2011</td>\n",
       "      <td>Standard Class</td>\n",
       "      <td>TB-11280</td>\n",
       "      <td>Toby Braunhardt</td>\n",
       "      <td>Consumer</td>\n",
       "      <td>Constantine</td>\n",
       "      <td>Constantine</td>\n",
       "      <td>...</td>\n",
       "      <td>OFF-TEN-10000025</td>\n",
       "      <td>Office Supplies</td>\n",
       "      <td>Storage</td>\n",
       "      <td>Tenex Lockers, Blue</td>\n",
       "      <td>408.300</td>\n",
       "      <td>2</td>\n",
       "      <td>0.0</td>\n",
       "      <td>106.1400</td>\n",
       "      <td>35.46</td>\n",
       "      <td>Medium</td>\n",
       "    </tr>\n",
       "    <tr>\n",
       "      <th>1</th>\n",
       "      <td>22253</td>\n",
       "      <td>IN-2011-47883</td>\n",
       "      <td>2011-01-01</td>\n",
       "      <td>8/1/2011</td>\n",
       "      <td>Standard Class</td>\n",
       "      <td>JH-15985</td>\n",
       "      <td>Joseph Holt</td>\n",
       "      <td>Consumer</td>\n",
       "      <td>Wagga Wagga</td>\n",
       "      <td>New South Wales</td>\n",
       "      <td>...</td>\n",
       "      <td>OFF-SU-10000618</td>\n",
       "      <td>Office Supplies</td>\n",
       "      <td>Supplies</td>\n",
       "      <td>Acme Trimmer, High Speed</td>\n",
       "      <td>120.366</td>\n",
       "      <td>3</td>\n",
       "      <td>0.1</td>\n",
       "      <td>36.0360</td>\n",
       "      <td>9.72</td>\n",
       "      <td>Medium</td>\n",
       "    </tr>\n",
       "    <tr>\n",
       "      <th>2</th>\n",
       "      <td>48883</td>\n",
       "      <td>HU-2011-1220</td>\n",
       "      <td>2011-01-01</td>\n",
       "      <td>5/1/2011</td>\n",
       "      <td>Second Class</td>\n",
       "      <td>AT-735</td>\n",
       "      <td>Annie Thurman</td>\n",
       "      <td>Consumer</td>\n",
       "      <td>Budapest</td>\n",
       "      <td>Budapest</td>\n",
       "      <td>...</td>\n",
       "      <td>OFF-TEN-10001585</td>\n",
       "      <td>Office Supplies</td>\n",
       "      <td>Storage</td>\n",
       "      <td>Tenex Box, Single Width</td>\n",
       "      <td>66.120</td>\n",
       "      <td>4</td>\n",
       "      <td>0.0</td>\n",
       "      <td>29.6400</td>\n",
       "      <td>8.17</td>\n",
       "      <td>High</td>\n",
       "    </tr>\n",
       "    <tr>\n",
       "      <th>3</th>\n",
       "      <td>11731</td>\n",
       "      <td>IT-2011-3647632</td>\n",
       "      <td>2011-01-01</td>\n",
       "      <td>5/1/2011</td>\n",
       "      <td>Second Class</td>\n",
       "      <td>EM-14140</td>\n",
       "      <td>Eugene Moren</td>\n",
       "      <td>Home Office</td>\n",
       "      <td>Stockholm</td>\n",
       "      <td>Stockholm</td>\n",
       "      <td>...</td>\n",
       "      <td>OFF-PA-10001492</td>\n",
       "      <td>Office Supplies</td>\n",
       "      <td>Paper</td>\n",
       "      <td>Enermax Note Cards, Premium</td>\n",
       "      <td>44.865</td>\n",
       "      <td>3</td>\n",
       "      <td>0.5</td>\n",
       "      <td>-26.0550</td>\n",
       "      <td>4.82</td>\n",
       "      <td>High</td>\n",
       "    </tr>\n",
       "    <tr>\n",
       "      <th>4</th>\n",
       "      <td>22255</td>\n",
       "      <td>IN-2011-47883</td>\n",
       "      <td>2011-01-01</td>\n",
       "      <td>8/1/2011</td>\n",
       "      <td>Standard Class</td>\n",
       "      <td>JH-15985</td>\n",
       "      <td>Joseph Holt</td>\n",
       "      <td>Consumer</td>\n",
       "      <td>Wagga Wagga</td>\n",
       "      <td>New South Wales</td>\n",
       "      <td>...</td>\n",
       "      <td>FUR-FU-10003447</td>\n",
       "      <td>Furniture</td>\n",
       "      <td>Furnishings</td>\n",
       "      <td>Eldon Light Bulb, Duo Pack</td>\n",
       "      <td>113.670</td>\n",
       "      <td>5</td>\n",
       "      <td>0.1</td>\n",
       "      <td>37.7700</td>\n",
       "      <td>4.70</td>\n",
       "      <td>Medium</td>\n",
       "    </tr>\n",
       "    <tr>\n",
       "      <th>...</th>\n",
       "      <td>...</td>\n",
       "      <td>...</td>\n",
       "      <td>...</td>\n",
       "      <td>...</td>\n",
       "      <td>...</td>\n",
       "      <td>...</td>\n",
       "      <td>...</td>\n",
       "      <td>...</td>\n",
       "      <td>...</td>\n",
       "      <td>...</td>\n",
       "      <td>...</td>\n",
       "      <td>...</td>\n",
       "      <td>...</td>\n",
       "      <td>...</td>\n",
       "      <td>...</td>\n",
       "      <td>...</td>\n",
       "      <td>...</td>\n",
       "      <td>...</td>\n",
       "      <td>...</td>\n",
       "      <td>...</td>\n",
       "      <td>...</td>\n",
       "    </tr>\n",
       "    <tr>\n",
       "      <th>51285</th>\n",
       "      <td>32593</td>\n",
       "      <td>CA-2014-115427</td>\n",
       "      <td>2014-12-31</td>\n",
       "      <td>4/1/2015</td>\n",
       "      <td>Standard Class</td>\n",
       "      <td>EB-13975</td>\n",
       "      <td>Erica Bern</td>\n",
       "      <td>Corporate</td>\n",
       "      <td>Fairfield</td>\n",
       "      <td>California</td>\n",
       "      <td>...</td>\n",
       "      <td>OFF-BI-10002103</td>\n",
       "      <td>Office Supplies</td>\n",
       "      <td>Binders</td>\n",
       "      <td>Cardinal Slant-D Ring Binder, Heavy Gauge Vinyl</td>\n",
       "      <td>13.904</td>\n",
       "      <td>2</td>\n",
       "      <td>0.2</td>\n",
       "      <td>4.5188</td>\n",
       "      <td>0.89</td>\n",
       "      <td>Medium</td>\n",
       "    </tr>\n",
       "    <tr>\n",
       "      <th>51286</th>\n",
       "      <td>47594</td>\n",
       "      <td>MO-2014-2560</td>\n",
       "      <td>2014-12-31</td>\n",
       "      <td>5/1/2015</td>\n",
       "      <td>Standard Class</td>\n",
       "      <td>LP-7095</td>\n",
       "      <td>Liz Preis</td>\n",
       "      <td>Consumer</td>\n",
       "      <td>Agadir</td>\n",
       "      <td>Souss-Massa-Dra�</td>\n",
       "      <td>...</td>\n",
       "      <td>OFF-WIL-10001069</td>\n",
       "      <td>Office Supplies</td>\n",
       "      <td>Binders</td>\n",
       "      <td>Wilson Jones Hole Reinforcements, Clear</td>\n",
       "      <td>3.990</td>\n",
       "      <td>1</td>\n",
       "      <td>0.0</td>\n",
       "      <td>0.4200</td>\n",
       "      <td>0.49</td>\n",
       "      <td>Medium</td>\n",
       "    </tr>\n",
       "    <tr>\n",
       "      <th>51287</th>\n",
       "      <td>8857</td>\n",
       "      <td>MX-2014-110527</td>\n",
       "      <td>2014-12-31</td>\n",
       "      <td>2/1/2015</td>\n",
       "      <td>Second Class</td>\n",
       "      <td>CM-12190</td>\n",
       "      <td>Charlotte Melton</td>\n",
       "      <td>Consumer</td>\n",
       "      <td>Managua</td>\n",
       "      <td>Managua</td>\n",
       "      <td>...</td>\n",
       "      <td>OFF-LA-10004182</td>\n",
       "      <td>Office Supplies</td>\n",
       "      <td>Labels</td>\n",
       "      <td>Hon Color Coded Labels, 5000 Label Set</td>\n",
       "      <td>26.400</td>\n",
       "      <td>3</td>\n",
       "      <td>0.0</td>\n",
       "      <td>12.3600</td>\n",
       "      <td>0.35</td>\n",
       "      <td>Medium</td>\n",
       "    </tr>\n",
       "    <tr>\n",
       "      <th>51288</th>\n",
       "      <td>6852</td>\n",
       "      <td>MX-2014-114783</td>\n",
       "      <td>2014-12-31</td>\n",
       "      <td>6/1/2015</td>\n",
       "      <td>Standard Class</td>\n",
       "      <td>TD-20995</td>\n",
       "      <td>Tamara Dahlen</td>\n",
       "      <td>Consumer</td>\n",
       "      <td>Ju�rez</td>\n",
       "      <td>Chihuahua</td>\n",
       "      <td>...</td>\n",
       "      <td>OFF-LA-10000413</td>\n",
       "      <td>Office Supplies</td>\n",
       "      <td>Labels</td>\n",
       "      <td>Hon Legal Exhibit Labels, Alphabetical</td>\n",
       "      <td>7.120</td>\n",
       "      <td>1</td>\n",
       "      <td>0.0</td>\n",
       "      <td>0.5600</td>\n",
       "      <td>0.20</td>\n",
       "      <td>Medium</td>\n",
       "    </tr>\n",
       "    <tr>\n",
       "      <th>51289</th>\n",
       "      <td>36388</td>\n",
       "      <td>CA-2014-156720</td>\n",
       "      <td>2014-12-31</td>\n",
       "      <td>4/1/2015</td>\n",
       "      <td>Standard Class</td>\n",
       "      <td>JM-15580</td>\n",
       "      <td>Jill Matthias</td>\n",
       "      <td>Consumer</td>\n",
       "      <td>Loveland</td>\n",
       "      <td>Colorado</td>\n",
       "      <td>...</td>\n",
       "      <td>OFF-FA-10003472</td>\n",
       "      <td>Office Supplies</td>\n",
       "      <td>Fasteners</td>\n",
       "      <td>Bagged Rubber Bands</td>\n",
       "      <td>3.024</td>\n",
       "      <td>3</td>\n",
       "      <td>0.2</td>\n",
       "      <td>-0.6048</td>\n",
       "      <td>0.17</td>\n",
       "      <td>Medium</td>\n",
       "    </tr>\n",
       "  </tbody>\n",
       "</table>\n",
       "<p>51290 rows × 24 columns</p>\n",
       "</div>"
      ],
      "text/plain": [
       "       Row ID         Order ID Order Date Ship Date       Ship Mode  \\\n",
       "0       42433     AG-2011-2040 2011-01-01  6/1/2011  Standard Class   \n",
       "1       22253    IN-2011-47883 2011-01-01  8/1/2011  Standard Class   \n",
       "2       48883     HU-2011-1220 2011-01-01  5/1/2011    Second Class   \n",
       "3       11731  IT-2011-3647632 2011-01-01  5/1/2011    Second Class   \n",
       "4       22255    IN-2011-47883 2011-01-01  8/1/2011  Standard Class   \n",
       "...       ...              ...        ...       ...             ...   \n",
       "51285   32593   CA-2014-115427 2014-12-31  4/1/2015  Standard Class   \n",
       "51286   47594     MO-2014-2560 2014-12-31  5/1/2015  Standard Class   \n",
       "51287    8857   MX-2014-110527 2014-12-31  2/1/2015    Second Class   \n",
       "51288    6852   MX-2014-114783 2014-12-31  6/1/2015  Standard Class   \n",
       "51289   36388   CA-2014-156720 2014-12-31  4/1/2015  Standard Class   \n",
       "\n",
       "      Customer_ID     Customer Name      Segment         City  \\\n",
       "0        TB-11280   Toby Braunhardt     Consumer  Constantine   \n",
       "1        JH-15985       Joseph Holt     Consumer  Wagga Wagga   \n",
       "2          AT-735     Annie Thurman     Consumer     Budapest   \n",
       "3        EM-14140      Eugene Moren  Home Office    Stockholm   \n",
       "4        JH-15985       Joseph Holt     Consumer  Wagga Wagga   \n",
       "...           ...               ...          ...          ...   \n",
       "51285    EB-13975        Erica Bern    Corporate    Fairfield   \n",
       "51286     LP-7095         Liz Preis     Consumer       Agadir   \n",
       "51287    CM-12190  Charlotte Melton     Consumer      Managua   \n",
       "51288    TD-20995     Tamara Dahlen     Consumer       Ju�rez   \n",
       "51289    JM-15580     Jill Matthias     Consumer     Loveland   \n",
       "\n",
       "                  State  ...        Product ID         Category Sub-Category  \\\n",
       "0           Constantine  ...  OFF-TEN-10000025  Office Supplies      Storage   \n",
       "1       New South Wales  ...   OFF-SU-10000618  Office Supplies     Supplies   \n",
       "2              Budapest  ...  OFF-TEN-10001585  Office Supplies      Storage   \n",
       "3             Stockholm  ...   OFF-PA-10001492  Office Supplies        Paper   \n",
       "4       New South Wales  ...   FUR-FU-10003447        Furniture  Furnishings   \n",
       "...                 ...  ...               ...              ...          ...   \n",
       "51285        California  ...   OFF-BI-10002103  Office Supplies      Binders   \n",
       "51286  Souss-Massa-Dra�  ...  OFF-WIL-10001069  Office Supplies      Binders   \n",
       "51287           Managua  ...   OFF-LA-10004182  Office Supplies       Labels   \n",
       "51288         Chihuahua  ...   OFF-LA-10000413  Office Supplies       Labels   \n",
       "51289          Colorado  ...   OFF-FA-10003472  Office Supplies    Fasteners   \n",
       "\n",
       "                                          Product Name    Sales Quantity  \\\n",
       "0                                  Tenex Lockers, Blue  408.300        2   \n",
       "1                             Acme Trimmer, High Speed  120.366        3   \n",
       "2                              Tenex Box, Single Width   66.120        4   \n",
       "3                          Enermax Note Cards, Premium   44.865        3   \n",
       "4                           Eldon Light Bulb, Duo Pack  113.670        5   \n",
       "...                                                ...      ...      ...   \n",
       "51285  Cardinal Slant-D Ring Binder, Heavy Gauge Vinyl   13.904        2   \n",
       "51286          Wilson Jones Hole Reinforcements, Clear    3.990        1   \n",
       "51287           Hon Color Coded Labels, 5000 Label Set   26.400        3   \n",
       "51288           Hon Legal Exhibit Labels, Alphabetical    7.120        1   \n",
       "51289                              Bagged Rubber Bands    3.024        3   \n",
       "\n",
       "      Discount    Profit  Shipping Cost  Order Priority  \n",
       "0          0.0  106.1400          35.46          Medium  \n",
       "1          0.1   36.0360           9.72          Medium  \n",
       "2          0.0   29.6400           8.17            High  \n",
       "3          0.5  -26.0550           4.82            High  \n",
       "4          0.1   37.7700           4.70          Medium  \n",
       "...        ...       ...            ...             ...  \n",
       "51285      0.2    4.5188           0.89          Medium  \n",
       "51286      0.0    0.4200           0.49          Medium  \n",
       "51287      0.0   12.3600           0.35          Medium  \n",
       "51288      0.0    0.5600           0.20          Medium  \n",
       "51289      0.2   -0.6048           0.17          Medium  \n",
       "\n",
       "[51290 rows x 24 columns]"
      ]
     },
     "execution_count": 160,
     "metadata": {},
     "output_type": "execute_result"
    }
   ],
   "source": [
    "df"
   ]
  },
  {
   "cell_type": "code",
   "execution_count": 161,
   "id": "31bc6b5d",
   "metadata": {},
   "outputs": [],
   "source": [
    "df2 = df.sort_values(by=\"Category\", ascending=False).head()"
   ]
  },
  {
   "cell_type": "code",
   "execution_count": 162,
   "id": "360075eb",
   "metadata": {},
   "outputs": [
    {
     "data": {
      "text/plain": [
       "<Figure size 720x504 with 0 Axes>"
      ]
     },
     "metadata": {},
     "output_type": "display_data"
    }
   ],
   "source": [
    "name = df['Category']\n",
    "pp1 = df['Quantity']\n",
    " \n",
    "# Figure Size\n",
    "fig = plt.figure(figsize =(10, 7))\n",
    "\n",
    "\n",
    "# Show Plot\n",
    "plt.show()"
   ]
  },
  {
   "cell_type": "code",
   "execution_count": 163,
   "id": "ff5cf859",
   "metadata": {},
   "outputs": [],
   "source": [
    "#what the best product comes Profit to the company?"
   ]
  },
  {
   "cell_type": "code",
   "execution_count": 164,
   "id": "91ab704f",
   "metadata": {},
   "outputs": [],
   "source": [
    "df.rename(columns={'Product Name' : 'Product_Name'}, inplace=True)"
   ]
  },
  {
   "cell_type": "code",
   "execution_count": 165,
   "id": "3c86aa67",
   "metadata": {},
   "outputs": [
    {
     "data": {
      "text/html": [
       "<div>\n",
       "<style scoped>\n",
       "    .dataframe tbody tr th:only-of-type {\n",
       "        vertical-align: middle;\n",
       "    }\n",
       "\n",
       "    .dataframe tbody tr th {\n",
       "        vertical-align: top;\n",
       "    }\n",
       "\n",
       "    .dataframe thead th {\n",
       "        text-align: right;\n",
       "    }\n",
       "</style>\n",
       "<table border=\"1\" class=\"dataframe\">\n",
       "  <thead>\n",
       "    <tr style=\"text-align: right;\">\n",
       "      <th></th>\n",
       "      <th>Row ID</th>\n",
       "      <th>Order ID</th>\n",
       "      <th>Order Date</th>\n",
       "      <th>Ship Date</th>\n",
       "      <th>Ship Mode</th>\n",
       "      <th>Customer_ID</th>\n",
       "      <th>Customer Name</th>\n",
       "      <th>Segment</th>\n",
       "      <th>City</th>\n",
       "      <th>State</th>\n",
       "      <th>...</th>\n",
       "      <th>Product ID</th>\n",
       "      <th>Category</th>\n",
       "      <th>Sub-Category</th>\n",
       "      <th>Product_Name</th>\n",
       "      <th>Sales</th>\n",
       "      <th>Quantity</th>\n",
       "      <th>Discount</th>\n",
       "      <th>Profit</th>\n",
       "      <th>Shipping Cost</th>\n",
       "      <th>Order Priority</th>\n",
       "    </tr>\n",
       "  </thead>\n",
       "  <tbody>\n",
       "    <tr>\n",
       "      <th>0</th>\n",
       "      <td>42433</td>\n",
       "      <td>AG-2011-2040</td>\n",
       "      <td>2011-01-01</td>\n",
       "      <td>6/1/2011</td>\n",
       "      <td>Standard Class</td>\n",
       "      <td>TB-11280</td>\n",
       "      <td>Toby Braunhardt</td>\n",
       "      <td>Consumer</td>\n",
       "      <td>Constantine</td>\n",
       "      <td>Constantine</td>\n",
       "      <td>...</td>\n",
       "      <td>OFF-TEN-10000025</td>\n",
       "      <td>Office Supplies</td>\n",
       "      <td>Storage</td>\n",
       "      <td>Tenex Lockers, Blue</td>\n",
       "      <td>408.300</td>\n",
       "      <td>2</td>\n",
       "      <td>0.0</td>\n",
       "      <td>106.1400</td>\n",
       "      <td>35.46</td>\n",
       "      <td>Medium</td>\n",
       "    </tr>\n",
       "    <tr>\n",
       "      <th>1</th>\n",
       "      <td>22253</td>\n",
       "      <td>IN-2011-47883</td>\n",
       "      <td>2011-01-01</td>\n",
       "      <td>8/1/2011</td>\n",
       "      <td>Standard Class</td>\n",
       "      <td>JH-15985</td>\n",
       "      <td>Joseph Holt</td>\n",
       "      <td>Consumer</td>\n",
       "      <td>Wagga Wagga</td>\n",
       "      <td>New South Wales</td>\n",
       "      <td>...</td>\n",
       "      <td>OFF-SU-10000618</td>\n",
       "      <td>Office Supplies</td>\n",
       "      <td>Supplies</td>\n",
       "      <td>Acme Trimmer, High Speed</td>\n",
       "      <td>120.366</td>\n",
       "      <td>3</td>\n",
       "      <td>0.1</td>\n",
       "      <td>36.0360</td>\n",
       "      <td>9.72</td>\n",
       "      <td>Medium</td>\n",
       "    </tr>\n",
       "    <tr>\n",
       "      <th>2</th>\n",
       "      <td>48883</td>\n",
       "      <td>HU-2011-1220</td>\n",
       "      <td>2011-01-01</td>\n",
       "      <td>5/1/2011</td>\n",
       "      <td>Second Class</td>\n",
       "      <td>AT-735</td>\n",
       "      <td>Annie Thurman</td>\n",
       "      <td>Consumer</td>\n",
       "      <td>Budapest</td>\n",
       "      <td>Budapest</td>\n",
       "      <td>...</td>\n",
       "      <td>OFF-TEN-10001585</td>\n",
       "      <td>Office Supplies</td>\n",
       "      <td>Storage</td>\n",
       "      <td>Tenex Box, Single Width</td>\n",
       "      <td>66.120</td>\n",
       "      <td>4</td>\n",
       "      <td>0.0</td>\n",
       "      <td>29.6400</td>\n",
       "      <td>8.17</td>\n",
       "      <td>High</td>\n",
       "    </tr>\n",
       "    <tr>\n",
       "      <th>3</th>\n",
       "      <td>11731</td>\n",
       "      <td>IT-2011-3647632</td>\n",
       "      <td>2011-01-01</td>\n",
       "      <td>5/1/2011</td>\n",
       "      <td>Second Class</td>\n",
       "      <td>EM-14140</td>\n",
       "      <td>Eugene Moren</td>\n",
       "      <td>Home Office</td>\n",
       "      <td>Stockholm</td>\n",
       "      <td>Stockholm</td>\n",
       "      <td>...</td>\n",
       "      <td>OFF-PA-10001492</td>\n",
       "      <td>Office Supplies</td>\n",
       "      <td>Paper</td>\n",
       "      <td>Enermax Note Cards, Premium</td>\n",
       "      <td>44.865</td>\n",
       "      <td>3</td>\n",
       "      <td>0.5</td>\n",
       "      <td>-26.0550</td>\n",
       "      <td>4.82</td>\n",
       "      <td>High</td>\n",
       "    </tr>\n",
       "    <tr>\n",
       "      <th>4</th>\n",
       "      <td>22255</td>\n",
       "      <td>IN-2011-47883</td>\n",
       "      <td>2011-01-01</td>\n",
       "      <td>8/1/2011</td>\n",
       "      <td>Standard Class</td>\n",
       "      <td>JH-15985</td>\n",
       "      <td>Joseph Holt</td>\n",
       "      <td>Consumer</td>\n",
       "      <td>Wagga Wagga</td>\n",
       "      <td>New South Wales</td>\n",
       "      <td>...</td>\n",
       "      <td>FUR-FU-10003447</td>\n",
       "      <td>Furniture</td>\n",
       "      <td>Furnishings</td>\n",
       "      <td>Eldon Light Bulb, Duo Pack</td>\n",
       "      <td>113.670</td>\n",
       "      <td>5</td>\n",
       "      <td>0.1</td>\n",
       "      <td>37.7700</td>\n",
       "      <td>4.70</td>\n",
       "      <td>Medium</td>\n",
       "    </tr>\n",
       "    <tr>\n",
       "      <th>...</th>\n",
       "      <td>...</td>\n",
       "      <td>...</td>\n",
       "      <td>...</td>\n",
       "      <td>...</td>\n",
       "      <td>...</td>\n",
       "      <td>...</td>\n",
       "      <td>...</td>\n",
       "      <td>...</td>\n",
       "      <td>...</td>\n",
       "      <td>...</td>\n",
       "      <td>...</td>\n",
       "      <td>...</td>\n",
       "      <td>...</td>\n",
       "      <td>...</td>\n",
       "      <td>...</td>\n",
       "      <td>...</td>\n",
       "      <td>...</td>\n",
       "      <td>...</td>\n",
       "      <td>...</td>\n",
       "      <td>...</td>\n",
       "      <td>...</td>\n",
       "    </tr>\n",
       "    <tr>\n",
       "      <th>51285</th>\n",
       "      <td>32593</td>\n",
       "      <td>CA-2014-115427</td>\n",
       "      <td>2014-12-31</td>\n",
       "      <td>4/1/2015</td>\n",
       "      <td>Standard Class</td>\n",
       "      <td>EB-13975</td>\n",
       "      <td>Erica Bern</td>\n",
       "      <td>Corporate</td>\n",
       "      <td>Fairfield</td>\n",
       "      <td>California</td>\n",
       "      <td>...</td>\n",
       "      <td>OFF-BI-10002103</td>\n",
       "      <td>Office Supplies</td>\n",
       "      <td>Binders</td>\n",
       "      <td>Cardinal Slant-D Ring Binder, Heavy Gauge Vinyl</td>\n",
       "      <td>13.904</td>\n",
       "      <td>2</td>\n",
       "      <td>0.2</td>\n",
       "      <td>4.5188</td>\n",
       "      <td>0.89</td>\n",
       "      <td>Medium</td>\n",
       "    </tr>\n",
       "    <tr>\n",
       "      <th>51286</th>\n",
       "      <td>47594</td>\n",
       "      <td>MO-2014-2560</td>\n",
       "      <td>2014-12-31</td>\n",
       "      <td>5/1/2015</td>\n",
       "      <td>Standard Class</td>\n",
       "      <td>LP-7095</td>\n",
       "      <td>Liz Preis</td>\n",
       "      <td>Consumer</td>\n",
       "      <td>Agadir</td>\n",
       "      <td>Souss-Massa-Dra�</td>\n",
       "      <td>...</td>\n",
       "      <td>OFF-WIL-10001069</td>\n",
       "      <td>Office Supplies</td>\n",
       "      <td>Binders</td>\n",
       "      <td>Wilson Jones Hole Reinforcements, Clear</td>\n",
       "      <td>3.990</td>\n",
       "      <td>1</td>\n",
       "      <td>0.0</td>\n",
       "      <td>0.4200</td>\n",
       "      <td>0.49</td>\n",
       "      <td>Medium</td>\n",
       "    </tr>\n",
       "    <tr>\n",
       "      <th>51287</th>\n",
       "      <td>8857</td>\n",
       "      <td>MX-2014-110527</td>\n",
       "      <td>2014-12-31</td>\n",
       "      <td>2/1/2015</td>\n",
       "      <td>Second Class</td>\n",
       "      <td>CM-12190</td>\n",
       "      <td>Charlotte Melton</td>\n",
       "      <td>Consumer</td>\n",
       "      <td>Managua</td>\n",
       "      <td>Managua</td>\n",
       "      <td>...</td>\n",
       "      <td>OFF-LA-10004182</td>\n",
       "      <td>Office Supplies</td>\n",
       "      <td>Labels</td>\n",
       "      <td>Hon Color Coded Labels, 5000 Label Set</td>\n",
       "      <td>26.400</td>\n",
       "      <td>3</td>\n",
       "      <td>0.0</td>\n",
       "      <td>12.3600</td>\n",
       "      <td>0.35</td>\n",
       "      <td>Medium</td>\n",
       "    </tr>\n",
       "    <tr>\n",
       "      <th>51288</th>\n",
       "      <td>6852</td>\n",
       "      <td>MX-2014-114783</td>\n",
       "      <td>2014-12-31</td>\n",
       "      <td>6/1/2015</td>\n",
       "      <td>Standard Class</td>\n",
       "      <td>TD-20995</td>\n",
       "      <td>Tamara Dahlen</td>\n",
       "      <td>Consumer</td>\n",
       "      <td>Ju�rez</td>\n",
       "      <td>Chihuahua</td>\n",
       "      <td>...</td>\n",
       "      <td>OFF-LA-10000413</td>\n",
       "      <td>Office Supplies</td>\n",
       "      <td>Labels</td>\n",
       "      <td>Hon Legal Exhibit Labels, Alphabetical</td>\n",
       "      <td>7.120</td>\n",
       "      <td>1</td>\n",
       "      <td>0.0</td>\n",
       "      <td>0.5600</td>\n",
       "      <td>0.20</td>\n",
       "      <td>Medium</td>\n",
       "    </tr>\n",
       "    <tr>\n",
       "      <th>51289</th>\n",
       "      <td>36388</td>\n",
       "      <td>CA-2014-156720</td>\n",
       "      <td>2014-12-31</td>\n",
       "      <td>4/1/2015</td>\n",
       "      <td>Standard Class</td>\n",
       "      <td>JM-15580</td>\n",
       "      <td>Jill Matthias</td>\n",
       "      <td>Consumer</td>\n",
       "      <td>Loveland</td>\n",
       "      <td>Colorado</td>\n",
       "      <td>...</td>\n",
       "      <td>OFF-FA-10003472</td>\n",
       "      <td>Office Supplies</td>\n",
       "      <td>Fasteners</td>\n",
       "      <td>Bagged Rubber Bands</td>\n",
       "      <td>3.024</td>\n",
       "      <td>3</td>\n",
       "      <td>0.2</td>\n",
       "      <td>-0.6048</td>\n",
       "      <td>0.17</td>\n",
       "      <td>Medium</td>\n",
       "    </tr>\n",
       "  </tbody>\n",
       "</table>\n",
       "<p>51290 rows × 24 columns</p>\n",
       "</div>"
      ],
      "text/plain": [
       "       Row ID         Order ID Order Date Ship Date       Ship Mode  \\\n",
       "0       42433     AG-2011-2040 2011-01-01  6/1/2011  Standard Class   \n",
       "1       22253    IN-2011-47883 2011-01-01  8/1/2011  Standard Class   \n",
       "2       48883     HU-2011-1220 2011-01-01  5/1/2011    Second Class   \n",
       "3       11731  IT-2011-3647632 2011-01-01  5/1/2011    Second Class   \n",
       "4       22255    IN-2011-47883 2011-01-01  8/1/2011  Standard Class   \n",
       "...       ...              ...        ...       ...             ...   \n",
       "51285   32593   CA-2014-115427 2014-12-31  4/1/2015  Standard Class   \n",
       "51286   47594     MO-2014-2560 2014-12-31  5/1/2015  Standard Class   \n",
       "51287    8857   MX-2014-110527 2014-12-31  2/1/2015    Second Class   \n",
       "51288    6852   MX-2014-114783 2014-12-31  6/1/2015  Standard Class   \n",
       "51289   36388   CA-2014-156720 2014-12-31  4/1/2015  Standard Class   \n",
       "\n",
       "      Customer_ID     Customer Name      Segment         City  \\\n",
       "0        TB-11280   Toby Braunhardt     Consumer  Constantine   \n",
       "1        JH-15985       Joseph Holt     Consumer  Wagga Wagga   \n",
       "2          AT-735     Annie Thurman     Consumer     Budapest   \n",
       "3        EM-14140      Eugene Moren  Home Office    Stockholm   \n",
       "4        JH-15985       Joseph Holt     Consumer  Wagga Wagga   \n",
       "...           ...               ...          ...          ...   \n",
       "51285    EB-13975        Erica Bern    Corporate    Fairfield   \n",
       "51286     LP-7095         Liz Preis     Consumer       Agadir   \n",
       "51287    CM-12190  Charlotte Melton     Consumer      Managua   \n",
       "51288    TD-20995     Tamara Dahlen     Consumer       Ju�rez   \n",
       "51289    JM-15580     Jill Matthias     Consumer     Loveland   \n",
       "\n",
       "                  State  ...        Product ID         Category Sub-Category  \\\n",
       "0           Constantine  ...  OFF-TEN-10000025  Office Supplies      Storage   \n",
       "1       New South Wales  ...   OFF-SU-10000618  Office Supplies     Supplies   \n",
       "2              Budapest  ...  OFF-TEN-10001585  Office Supplies      Storage   \n",
       "3             Stockholm  ...   OFF-PA-10001492  Office Supplies        Paper   \n",
       "4       New South Wales  ...   FUR-FU-10003447        Furniture  Furnishings   \n",
       "...                 ...  ...               ...              ...          ...   \n",
       "51285        California  ...   OFF-BI-10002103  Office Supplies      Binders   \n",
       "51286  Souss-Massa-Dra�  ...  OFF-WIL-10001069  Office Supplies      Binders   \n",
       "51287           Managua  ...   OFF-LA-10004182  Office Supplies       Labels   \n",
       "51288         Chihuahua  ...   OFF-LA-10000413  Office Supplies       Labels   \n",
       "51289          Colorado  ...   OFF-FA-10003472  Office Supplies    Fasteners   \n",
       "\n",
       "                                          Product_Name    Sales Quantity  \\\n",
       "0                                  Tenex Lockers, Blue  408.300        2   \n",
       "1                             Acme Trimmer, High Speed  120.366        3   \n",
       "2                              Tenex Box, Single Width   66.120        4   \n",
       "3                          Enermax Note Cards, Premium   44.865        3   \n",
       "4                           Eldon Light Bulb, Duo Pack  113.670        5   \n",
       "...                                                ...      ...      ...   \n",
       "51285  Cardinal Slant-D Ring Binder, Heavy Gauge Vinyl   13.904        2   \n",
       "51286          Wilson Jones Hole Reinforcements, Clear    3.990        1   \n",
       "51287           Hon Color Coded Labels, 5000 Label Set   26.400        3   \n",
       "51288           Hon Legal Exhibit Labels, Alphabetical    7.120        1   \n",
       "51289                              Bagged Rubber Bands    3.024        3   \n",
       "\n",
       "      Discount    Profit  Shipping Cost  Order Priority  \n",
       "0          0.0  106.1400          35.46          Medium  \n",
       "1          0.1   36.0360           9.72          Medium  \n",
       "2          0.0   29.6400           8.17            High  \n",
       "3          0.5  -26.0550           4.82            High  \n",
       "4          0.1   37.7700           4.70          Medium  \n",
       "...        ...       ...            ...             ...  \n",
       "51285      0.2    4.5188           0.89          Medium  \n",
       "51286      0.0    0.4200           0.49          Medium  \n",
       "51287      0.0   12.3600           0.35          Medium  \n",
       "51288      0.0    0.5600           0.20          Medium  \n",
       "51289      0.2   -0.6048           0.17          Medium  \n",
       "\n",
       "[51290 rows x 24 columns]"
      ]
     },
     "execution_count": 165,
     "metadata": {},
     "output_type": "execute_result"
    }
   ],
   "source": [
    "df"
   ]
  },
  {
   "cell_type": "code",
   "execution_count": 166,
   "id": "df3d39e8",
   "metadata": {},
   "outputs": [
    {
     "data": {
      "text/plain": [
       "<bound method Series.unique of 0        106.1400\n",
       "1         36.0360\n",
       "2         29.6400\n",
       "3        -26.0550\n",
       "4         37.7700\n",
       "           ...   \n",
       "51285      4.5188\n",
       "51286      0.4200\n",
       "51287     12.3600\n",
       "51288      0.5600\n",
       "51289     -0.6048\n",
       "Name: Profit, Length: 51290, dtype: float64>"
      ]
     },
     "execution_count": 166,
     "metadata": {},
     "output_type": "execute_result"
    }
   ],
   "source": [
    "df.Profit.unique"
   ]
  },
  {
   "cell_type": "code",
   "execution_count": 167,
   "id": "97977224",
   "metadata": {
    "scrolled": true
   },
   "outputs": [
    {
     "data": {
      "text/plain": [
       "0"
      ]
     },
     "execution_count": 167,
     "metadata": {},
     "output_type": "execute_result"
    }
   ],
   "source": [
    "df.Profit.isna().sum()"
   ]
  },
  {
   "cell_type": "code",
   "execution_count": 168,
   "id": "b19a2da7",
   "metadata": {
    "scrolled": true
   },
   "outputs": [
    {
     "data": {
      "text/html": [
       "<div>\n",
       "<style scoped>\n",
       "    .dataframe tbody tr th:only-of-type {\n",
       "        vertical-align: middle;\n",
       "    }\n",
       "\n",
       "    .dataframe tbody tr th {\n",
       "        vertical-align: top;\n",
       "    }\n",
       "\n",
       "    .dataframe thead th {\n",
       "        text-align: right;\n",
       "    }\n",
       "</style>\n",
       "<table border=\"1\" class=\"dataframe\">\n",
       "  <thead>\n",
       "    <tr style=\"text-align: right;\">\n",
       "      <th></th>\n",
       "      <th>Product_Name</th>\n",
       "      <th>Profit</th>\n",
       "    </tr>\n",
       "  </thead>\n",
       "  <tbody>\n",
       "    <tr>\n",
       "      <th>866</th>\n",
       "      <td>Canon imageCLASS 2200 Advanced Copier</td>\n",
       "      <td>8399.9760</td>\n",
       "    </tr>\n",
       "    <tr>\n",
       "      <th>1498</th>\n",
       "      <td>GBC Ibimaster 500 Manual ProClick Binding System</td>\n",
       "      <td>4946.3700</td>\n",
       "    </tr>\n",
       "    <tr>\n",
       "      <th>1974</th>\n",
       "      <td>Ibico EPK-21 Electric Binding System</td>\n",
       "      <td>4630.4755</td>\n",
       "    </tr>\n",
       "    <tr>\n",
       "      <th>1926</th>\n",
       "      <td>Hoover Stove, Red</td>\n",
       "      <td>3979.0800</td>\n",
       "    </tr>\n",
       "    <tr>\n",
       "      <th>1429</th>\n",
       "      <td>Fellowes PB500 Electric Punch Plastic Comb Bin...</td>\n",
       "      <td>3177.4750</td>\n",
       "    </tr>\n",
       "    <tr>\n",
       "      <th>2990</th>\n",
       "      <td>Samsung Smart Phone, VoIP</td>\n",
       "      <td>2939.3100</td>\n",
       "    </tr>\n",
       "    <tr>\n",
       "      <th>311</th>\n",
       "      <td>Apple Smart Phone, with Caller ID</td>\n",
       "      <td>2817.9900</td>\n",
       "    </tr>\n",
       "    <tr>\n",
       "      <th>1647</th>\n",
       "      <td>HP Designjet T520 Inkjet Large Format Printer ...</td>\n",
       "      <td>2799.9840</td>\n",
       "    </tr>\n",
       "    <tr>\n",
       "      <th>865</th>\n",
       "      <td>Canon Wireless Fax, Laser</td>\n",
       "      <td>2597.2800</td>\n",
       "    </tr>\n",
       "    <tr>\n",
       "      <th>1769</th>\n",
       "      <td>Hewlett Packard LaserJet 3310 Copier</td>\n",
       "      <td>2591.9568</td>\n",
       "    </tr>\n",
       "    <tr>\n",
       "      <th>1493</th>\n",
       "      <td>GBC DocuBind P400 Electric Binding System</td>\n",
       "      <td>2504.2216</td>\n",
       "    </tr>\n",
       "    <tr>\n",
       "      <th>1691</th>\n",
       "      <td>Hamilton Beach Stove, Silver</td>\n",
       "      <td>2476.4400</td>\n",
       "    </tr>\n",
       "    <tr>\n",
       "      <th>2501</th>\n",
       "      <td>Nokia Smart Phone, Full Size</td>\n",
       "      <td>2461.3200</td>\n",
       "    </tr>\n",
       "    <tr>\n",
       "      <th>2415</th>\n",
       "      <td>Motorola Smart Phone, Full Size</td>\n",
       "      <td>2447.1000</td>\n",
       "    </tr>\n",
       "    <tr>\n",
       "      <th>326</th>\n",
       "      <td>Ativa V4110MDD Micro-Cut Shredder</td>\n",
       "      <td>2400.9657</td>\n",
       "    </tr>\n",
       "  </tbody>\n",
       "</table>\n",
       "</div>"
      ],
      "text/plain": [
       "                                           Product_Name     Profit\n",
       "866               Canon imageCLASS 2200 Advanced Copier  8399.9760\n",
       "1498   GBC Ibimaster 500 Manual ProClick Binding System  4946.3700\n",
       "1974               Ibico EPK-21 Electric Binding System  4630.4755\n",
       "1926                                  Hoover Stove, Red  3979.0800\n",
       "1429  Fellowes PB500 Electric Punch Plastic Comb Bin...  3177.4750\n",
       "2990                          Samsung Smart Phone, VoIP  2939.3100\n",
       "311                   Apple Smart Phone, with Caller ID  2817.9900\n",
       "1647  HP Designjet T520 Inkjet Large Format Printer ...  2799.9840\n",
       "865                           Canon Wireless Fax, Laser  2597.2800\n",
       "1769               Hewlett Packard LaserJet 3310 Copier  2591.9568\n",
       "1493          GBC DocuBind P400 Electric Binding System  2504.2216\n",
       "1691                       Hamilton Beach Stove, Silver  2476.4400\n",
       "2501                       Nokia Smart Phone, Full Size  2461.3200\n",
       "2415                    Motorola Smart Phone, Full Size  2447.1000\n",
       "326                   Ativa V4110MDD Micro-Cut Shredder  2400.9657"
      ]
     },
     "execution_count": 168,
     "metadata": {},
     "output_type": "execute_result"
    }
   ],
   "source": [
    "df.groupby([\"Product_Name\"])['Profit'].max().reset_index().sort_values('Profit',ascending = False).head(15)"
   ]
  },
  {
   "cell_type": "code",
   "execution_count": 169,
   "id": "99520c0b",
   "metadata": {},
   "outputs": [],
   "source": [
    "S= df[\"Product_Name\"].apply(lambda x:\"Canon Copier\" if \"Canon imageCLASS 2200 Advanced Copier\" in x else x)\n",
    "df[\"Product_Name\"]=S"
   ]
  },
  {
   "cell_type": "code",
   "execution_count": 170,
   "id": "97d2cbeb",
   "metadata": {},
   "outputs": [],
   "source": [
    "O=df[\"Product_Name\"].apply(lambda x:\"GBC System\" if \"GBC Ibimaster 500 Manual ProClick Binding System\" in x else x)\n",
    "df[\"Product_Name\"]=O"
   ]
  },
  {
   "cell_type": "code",
   "execution_count": 171,
   "id": "57f40e1f",
   "metadata": {},
   "outputs": [],
   "source": [
    "a=df[\"Product_Name\"].apply(lambda x:\"Ibico System\" if \"Ibico EPK-21 Electric Binding System\" in x else x)\n",
    "df[\"Product_Name\"]=a"
   ]
  },
  {
   "cell_type": "code",
   "execution_count": 172,
   "id": "da31d6fe",
   "metadata": {},
   "outputs": [],
   "source": [
    "d=df[\"Product_Name\"].apply(lambda x:\"Hoover Stove\" if \"Hoover Stove, Red\" in x else x)\n",
    "df[\"Product_Name\"]=d"
   ]
  },
  {
   "cell_type": "code",
   "execution_count": 173,
   "id": "44125ae7",
   "metadata": {},
   "outputs": [],
   "source": [
    "l=df[\"Product_Name\"].apply(lambda x:\"Fellowes Punch Plastic\" if \"Fellowes PB500 Electric Punch Plastic Comb Binding Machine with Manual Bind\" in x else x)\n",
    "df[\"Product_Name\"]=l"
   ]
  },
  {
   "cell_type": "code",
   "execution_count": 174,
   "id": "2ac51766",
   "metadata": {
    "scrolled": false
   },
   "outputs": [],
   "source": [
    "j=df[\"Product_Name\"].apply(lambda x:\"Samsung Smart Phone\" if \"Samsung Smart Phone, VoIP\" in x else x)\n",
    "df[\"Product_Name\"]=j"
   ]
  },
  {
   "cell_type": "code",
   "execution_count": 175,
   "id": "6aa8393c",
   "metadata": {},
   "outputs": [],
   "source": [
    "df.rename(columns={'Customer ID' : 'Customer_ID'}, inplace=True)"
   ]
  },
  {
   "cell_type": "code",
   "execution_count": 176,
   "id": "00a641f5",
   "metadata": {},
   "outputs": [
    {
     "data": {
      "text/plain": [
       " 0.0000     668\n",
       " 4.3200      70\n",
       " 3.9600      69\n",
       " 7.9200      67\n",
       " 2.6400      63\n",
       "           ... \n",
       " 66.0736      1\n",
       "-6.1650       1\n",
       "-2.2140       1\n",
       " 20.8400      1\n",
       " 2.3571       1\n",
       "Name: Profit, Length: 24575, dtype: int64"
      ]
     },
     "execution_count": 176,
     "metadata": {},
     "output_type": "execute_result"
    }
   ],
   "source": [
    "df.Profit.value_counts()"
   ]
  },
  {
   "cell_type": "code",
   "execution_count": 177,
   "id": "1530a303",
   "metadata": {
    "scrolled": false
   },
   "outputs": [
    {
     "data": {
      "image/png": "[encoded data removed]",
      "text/plain": [
       "<Figure size 648x504 with 1 Axes>"
      ]
     },
     "metadata": {},
     "output_type": "display_data"
    }
   ],
   "source": [
    "best = df.groupby([\"Product_Name\"])['Profit'].max().reset_index().sort_values('Profit',ascending = False).head(5)\n",
    "fig = plt.figure(figsize =(9, 7))\n",
    "plt.title('The best product Profitable ',fontsize=20)\n",
    "plt.xticks(rotation=90)\n",
    "plt.xlabel('Product_Name',fontsize=20)\n",
    "plt.ylabel('Profit',fontsize=20)\n",
    "sns.barplot(x = \"Product_Name\",y= \"Profit\",data=best, palette=['#EC5856'])\n",
    "sns.set_style('white')\n",
    "sns.despine()\n",
    "plt.xlabel('')\n",
    "plt.tight_layout();\n",
    "\n",
    "\n"
   ]
  },
  {
   "cell_type": "code",
   "execution_count": 178,
   "id": "5db39c2a",
   "metadata": {},
   "outputs": [
    {
     "data": {
      "text/plain": [
       "0        2011\n",
       "1        2011\n",
       "2        2011\n",
       "3        2011\n",
       "4        2011\n",
       "         ... \n",
       "51285    2014\n",
       "51286    2014\n",
       "51287    2014\n",
       "51288    2014\n",
       "51289    2014\n",
       "Name: Order Date, Length: 51290, dtype: int64"
      ]
     },
     "execution_count": 178,
     "metadata": {},
     "output_type": "execute_result"
    }
   ],
   "source": [
    "year = df['Order Date'].dt.year\n",
    "year"
   ]
  },
  {
   "cell_type": "code",
   "execution_count": 179,
   "id": "cbd8af11",
   "metadata": {},
   "outputs": [],
   "source": [
    "df['years']=df['Order Date'].dt.year  "
   ]
  },
  {
   "cell_type": "code",
   "execution_count": 180,
   "id": "5d3fe09a",
   "metadata": {},
   "outputs": [
    {
     "data": {
      "text/plain": [
       "years  Profit   \n",
       "2011   0.0000       120\n",
       "       2.8800        14\n",
       "       6.8400        13\n",
       "       2.6400        12\n",
       "       4.3200        11\n",
       "                   ... \n",
       "2014   2597.2800      1\n",
       "       3919.9888      1\n",
       "       3979.0800      1\n",
       "       5039.9856      1\n",
       "       6719.9808      1\n",
       "Name: Profit, Length: 33980, dtype: int64"
      ]
     },
     "execution_count": 180,
     "metadata": {},
     "output_type": "execute_result"
    }
   ],
   "source": [
    "best_year = df.groupby(['years'])['Profit'].value_counts()\n",
    "best_year"
   ]
  },
  {
   "cell_type": "code",
   "execution_count": 181,
   "id": "73d3f75c",
   "metadata": {
    "scrolled": true
   },
   "outputs": [
    {
     "data": {
      "text/html": [
       "<div>\n",
       "<style scoped>\n",
       "    .dataframe tbody tr th:only-of-type {\n",
       "        vertical-align: middle;\n",
       "    }\n",
       "\n",
       "    .dataframe tbody tr th {\n",
       "        vertical-align: top;\n",
       "    }\n",
       "\n",
       "    .dataframe thead th {\n",
       "        text-align: right;\n",
       "    }\n",
       "</style>\n",
       "<table border=\"1\" class=\"dataframe\">\n",
       "  <thead>\n",
       "    <tr style=\"text-align: right;\">\n",
       "      <th></th>\n",
       "      <th>Row ID</th>\n",
       "      <th>Postal Code</th>\n",
       "      <th>Sales</th>\n",
       "      <th>Quantity</th>\n",
       "      <th>Discount</th>\n",
       "      <th>Profit</th>\n",
       "      <th>Shipping Cost</th>\n",
       "    </tr>\n",
       "    <tr>\n",
       "      <th>years</th>\n",
       "      <th></th>\n",
       "      <th></th>\n",
       "      <th></th>\n",
       "      <th></th>\n",
       "      <th></th>\n",
       "      <th></th>\n",
       "      <th></th>\n",
       "    </tr>\n",
       "  </thead>\n",
       "  <tbody>\n",
       "    <tr>\n",
       "      <th>2011</th>\n",
       "      <td>235388025</td>\n",
       "      <td>113271247.0</td>\n",
       "      <td>2.259451e+06</td>\n",
       "      <td>31443</td>\n",
       "      <td>1333.394</td>\n",
       "      <td>248940.81154</td>\n",
       "      <td>244271.08</td>\n",
       "    </tr>\n",
       "    <tr>\n",
       "      <th>2012</th>\n",
       "      <td>277692065</td>\n",
       "      <td>111208247.0</td>\n",
       "      <td>2.677439e+06</td>\n",
       "      <td>38111</td>\n",
       "      <td>1548.774</td>\n",
       "      <td>307415.27910</td>\n",
       "      <td>283491.89</td>\n",
       "    </tr>\n",
       "    <tr>\n",
       "      <th>2013</th>\n",
       "      <td>347629160</td>\n",
       "      <td>140529941.0</td>\n",
       "      <td>3.405746e+06</td>\n",
       "      <td>48136</td>\n",
       "      <td>1935.522</td>\n",
       "      <td>406935.23018</td>\n",
       "      <td>364549.95</td>\n",
       "    </tr>\n",
       "    <tr>\n",
       "      <th>2014</th>\n",
       "      <td>454648445</td>\n",
       "      <td>186563217.0</td>\n",
       "      <td>4.299866e+06</td>\n",
       "      <td>60622</td>\n",
       "      <td>2512.038</td>\n",
       "      <td>504165.97046</td>\n",
       "      <td>460507.77</td>\n",
       "    </tr>\n",
       "  </tbody>\n",
       "</table>\n",
       "</div>"
      ],
      "text/plain": [
       "          Row ID  Postal Code         Sales  Quantity  Discount        Profit  \\\n",
       "years                                                                           \n",
       "2011   235388025  113271247.0  2.259451e+06     31443  1333.394  248940.81154   \n",
       "2012   277692065  111208247.0  2.677439e+06     38111  1548.774  307415.27910   \n",
       "2013   347629160  140529941.0  3.405746e+06     48136  1935.522  406935.23018   \n",
       "2014   454648445  186563217.0  4.299866e+06     60622  2512.038  504165.97046   \n",
       "\n",
       "       Shipping Cost  \n",
       "years                 \n",
       "2011       244271.08  \n",
       "2012       283491.89  \n",
       "2013       364549.95  \n",
       "2014       460507.77  "
      ]
     },
     "execution_count": 181,
     "metadata": {},
     "output_type": "execute_result"
    }
   ],
   "source": [
    "df1 =df.groupby('years').sum('Profit')\n",
    "df1"
   ]
  },
  {
   "cell_type": "code",
   "execution_count": 182,
   "id": "e2d06514",
   "metadata": {},
   "outputs": [
    {
     "data": {
      "text/plain": [
       "0        2011\n",
       "1        2011\n",
       "2        2011\n",
       "3        2011\n",
       "4        2011\n",
       "         ... \n",
       "51285    2014\n",
       "51286    2014\n",
       "51287    2014\n",
       "51288    2014\n",
       "51289    2014\n",
       "Name: Order Date, Length: 51290, dtype: int64"
      ]
     },
     "execution_count": 182,
     "metadata": {},
     "output_type": "execute_result"
    }
   ],
   "source": [
    "year = df['Order Date'].dt.year\n",
    "year"
   ]
  },
  {
   "cell_type": "code",
   "execution_count": 183,
   "id": "580f06c9",
   "metadata": {},
   "outputs": [
    {
     "data": {
      "text/plain": [
       "pandas.core.indexes.numeric.Int64Index"
      ]
     },
     "execution_count": 183,
     "metadata": {},
     "output_type": "execute_result"
    }
   ],
   "source": [
    "type(df1.index)"
   ]
  },
  {
   "cell_type": "code",
   "execution_count": 184,
   "id": "90c93a06",
   "metadata": {},
   "outputs": [
    {
     "data": {
      "image/png": "[encoded data removed]",
      "text/plain": [
       "<Figure size 432x288 with 1 Axes>"
      ]
     },
     "metadata": {},
     "output_type": "display_data"
    }
   ],
   "source": [
    "sns.set_style('white')\n",
    "sns.histplot(df.years,color='#EC5856')\n",
    "sns.despine()\n",
    "plt.xlabel('')\n",
    "plt.tight_layout();"
   ]
  },
  {
   "cell_type": "code",
   "execution_count": null,
   "id": "232313e0",
   "metadata": {},
   "outputs": [],
   "source": [
    "         "
   ]
  },
  {
   "cell_type": "code",
   "execution_count": 185,
   "id": "0c2a2f35",
   "metadata": {},
   "outputs": [
    {
     "data": {
      "text/html": [
       "<div>\n",
       "<style scoped>\n",
       "    .dataframe tbody tr th:only-of-type {\n",
       "        vertical-align: middle;\n",
       "    }\n",
       "\n",
       "    .dataframe tbody tr th {\n",
       "        vertical-align: top;\n",
       "    }\n",
       "\n",
       "    .dataframe thead th {\n",
       "        text-align: right;\n",
       "    }\n",
       "</style>\n",
       "<table border=\"1\" class=\"dataframe\">\n",
       "  <thead>\n",
       "    <tr style=\"text-align: right;\">\n",
       "      <th></th>\n",
       "      <th>Row ID</th>\n",
       "      <th>Order ID</th>\n",
       "      <th>Order Date</th>\n",
       "      <th>Ship Date</th>\n",
       "      <th>Ship Mode</th>\n",
       "      <th>Customer_ID</th>\n",
       "      <th>Customer Name</th>\n",
       "      <th>Segment</th>\n",
       "      <th>City</th>\n",
       "      <th>State</th>\n",
       "      <th>...</th>\n",
       "      <th>Category</th>\n",
       "      <th>Sub-Category</th>\n",
       "      <th>Product_Name</th>\n",
       "      <th>Sales</th>\n",
       "      <th>Quantity</th>\n",
       "      <th>Discount</th>\n",
       "      <th>Profit</th>\n",
       "      <th>Shipping Cost</th>\n",
       "      <th>Order Priority</th>\n",
       "      <th>years</th>\n",
       "    </tr>\n",
       "  </thead>\n",
       "  <tbody>\n",
       "    <tr>\n",
       "      <th>49041</th>\n",
       "      <td>21343</td>\n",
       "      <td>IN-2013-26519</td>\n",
       "      <td>2013-03-30</td>\n",
       "      <td>1/4/2013</td>\n",
       "      <td>First Class</td>\n",
       "      <td>DR-12940</td>\n",
       "      <td>Daniel Raglin</td>\n",
       "      <td>Home Office</td>\n",
       "      <td>Sydney</td>\n",
       "      <td>New South Wales</td>\n",
       "      <td>...</td>\n",
       "      <td>Office Supplies</td>\n",
       "      <td>Paper</td>\n",
       "      <td>SanDisk Memo Slips, Multicolor</td>\n",
       "      <td>49.653</td>\n",
       "      <td>3</td>\n",
       "      <td>0.1</td>\n",
       "      <td>1.0530</td>\n",
       "      <td>0.06</td>\n",
       "      <td>Medium</td>\n",
       "      <td>2013</td>\n",
       "    </tr>\n",
       "    <tr>\n",
       "      <th>32687</th>\n",
       "      <td>5753</td>\n",
       "      <td>US-2011-102323</td>\n",
       "      <td>2011-08-20</td>\n",
       "      <td>24-08-2011</td>\n",
       "      <td>Standard Class</td>\n",
       "      <td>GH-14425</td>\n",
       "      <td>Gary Hwang</td>\n",
       "      <td>Consumer</td>\n",
       "      <td>San Miguelito</td>\n",
       "      <td>Panama</td>\n",
       "      <td>...</td>\n",
       "      <td>Office Supplies</td>\n",
       "      <td>Envelopes</td>\n",
       "      <td>GlobeWeis Peel and Seal, Recycled</td>\n",
       "      <td>32.304</td>\n",
       "      <td>4</td>\n",
       "      <td>0.4</td>\n",
       "      <td>2.6240</td>\n",
       "      <td>2.13</td>\n",
       "      <td>Medium</td>\n",
       "      <td>2011</td>\n",
       "    </tr>\n",
       "    <tr>\n",
       "      <th>37653</th>\n",
       "      <td>6497</td>\n",
       "      <td>MX-2011-121524</td>\n",
       "      <td>2011-07-23</td>\n",
       "      <td>26-07-2011</td>\n",
       "      <td>First Class</td>\n",
       "      <td>GM-14500</td>\n",
       "      <td>Gene McClure</td>\n",
       "      <td>Consumer</td>\n",
       "      <td>Rol�ndia</td>\n",
       "      <td>Parana</td>\n",
       "      <td>...</td>\n",
       "      <td>Office Supplies</td>\n",
       "      <td>Paper</td>\n",
       "      <td>Green Bar Computer Printout Paper, Multicolor</td>\n",
       "      <td>124.680</td>\n",
       "      <td>6</td>\n",
       "      <td>0.0</td>\n",
       "      <td>9.9600</td>\n",
       "      <td>47.82</td>\n",
       "      <td>Critical</td>\n",
       "      <td>2011</td>\n",
       "    </tr>\n",
       "    <tr>\n",
       "      <th>18018</th>\n",
       "      <td>39622</td>\n",
       "      <td>CA-2014-144456</td>\n",
       "      <td>2014-09-09</td>\n",
       "      <td>10/9/2014</td>\n",
       "      <td>First Class</td>\n",
       "      <td>FC-14245</td>\n",
       "      <td>Frank Carlisle</td>\n",
       "      <td>Home Office</td>\n",
       "      <td>Hialeah</td>\n",
       "      <td>Florida</td>\n",
       "      <td>...</td>\n",
       "      <td>Technology</td>\n",
       "      <td>Phones</td>\n",
       "      <td>Samsung Rugby III</td>\n",
       "      <td>158.376</td>\n",
       "      <td>3</td>\n",
       "      <td>0.2</td>\n",
       "      <td>13.8579</td>\n",
       "      <td>20.40</td>\n",
       "      <td>High</td>\n",
       "      <td>2014</td>\n",
       "    </tr>\n",
       "    <tr>\n",
       "      <th>38949</th>\n",
       "      <td>33896</td>\n",
       "      <td>CA-2014-108553</td>\n",
       "      <td>2014-04-24</td>\n",
       "      <td>30-04-2014</td>\n",
       "      <td>Standard Class</td>\n",
       "      <td>SK-19990</td>\n",
       "      <td>Sally Knutson</td>\n",
       "      <td>Consumer</td>\n",
       "      <td>New York City</td>\n",
       "      <td>New York</td>\n",
       "      <td>...</td>\n",
       "      <td>Office Supplies</td>\n",
       "      <td>Appliances</td>\n",
       "      <td>Tripp Lite Isotel 6 Outlet Surge Protector wit...</td>\n",
       "      <td>121.940</td>\n",
       "      <td>2</td>\n",
       "      <td>0.0</td>\n",
       "      <td>35.3626</td>\n",
       "      <td>8.48</td>\n",
       "      <td>Medium</td>\n",
       "      <td>2014</td>\n",
       "    </tr>\n",
       "  </tbody>\n",
       "</table>\n",
       "<p>5 rows × 25 columns</p>\n",
       "</div>"
      ],
      "text/plain": [
       "       Row ID        Order ID Order Date   Ship Date       Ship Mode  \\\n",
       "49041   21343   IN-2013-26519 2013-03-30    1/4/2013     First Class   \n",
       "32687    5753  US-2011-102323 2011-08-20  24-08-2011  Standard Class   \n",
       "37653    6497  MX-2011-121524 2011-07-23  26-07-2011     First Class   \n",
       "18018   39622  CA-2014-144456 2014-09-09   10/9/2014     First Class   \n",
       "38949   33896  CA-2014-108553 2014-04-24  30-04-2014  Standard Class   \n",
       "\n",
       "      Customer_ID   Customer Name      Segment           City  \\\n",
       "49041    DR-12940   Daniel Raglin  Home Office         Sydney   \n",
       "32687    GH-14425      Gary Hwang     Consumer  San Miguelito   \n",
       "37653    GM-14500    Gene McClure     Consumer       Rol�ndia   \n",
       "18018    FC-14245  Frank Carlisle  Home Office        Hialeah   \n",
       "38949    SK-19990   Sally Knutson     Consumer  New York City   \n",
       "\n",
       "                 State  ...         Category  Sub-Category  \\\n",
       "49041  New South Wales  ...  Office Supplies         Paper   \n",
       "32687           Panama  ...  Office Supplies     Envelopes   \n",
       "37653           Parana  ...  Office Supplies         Paper   \n",
       "18018          Florida  ...       Technology        Phones   \n",
       "38949         New York  ...  Office Supplies    Appliances   \n",
       "\n",
       "                                            Product_Name    Sales Quantity  \\\n",
       "49041                     SanDisk Memo Slips, Multicolor   49.653        3   \n",
       "32687                  GlobeWeis Peel and Seal, Recycled   32.304        4   \n",
       "37653      Green Bar Computer Printout Paper, Multicolor  124.680        6   \n",
       "18018                                  Samsung Rugby III  158.376        3   \n",
       "38949  Tripp Lite Isotel 6 Outlet Surge Protector wit...  121.940        2   \n",
       "\n",
       "      Discount   Profit Shipping Cost  Order Priority  years  \n",
       "49041      0.1   1.0530          0.06          Medium   2013  \n",
       "32687      0.4   2.6240          2.13          Medium   2011  \n",
       "37653      0.0   9.9600         47.82        Critical   2011  \n",
       "18018      0.2  13.8579         20.40            High   2014  \n",
       "38949      0.0  35.3626          8.48          Medium   2014  \n",
       "\n",
       "[5 rows x 25 columns]"
      ]
     },
     "execution_count": 185,
     "metadata": {},
     "output_type": "execute_result"
    }
   ],
   "source": [
    "df.sample(5)"
   ]
  },
  {
   "cell_type": "code",
   "execution_count": 186,
   "id": "74f54e2d",
   "metadata": {
    "scrolled": true
   },
   "outputs": [
    {
     "data": {
      "text/plain": [
       "<bound method Series.unique of 0        Constantine\n",
       "1        Wagga Wagga\n",
       "2           Budapest\n",
       "3          Stockholm\n",
       "4        Wagga Wagga\n",
       "            ...     \n",
       "51285      Fairfield\n",
       "51286         Agadir\n",
       "51287        Managua\n",
       "51288         Ju�rez\n",
       "51289       Loveland\n",
       "Name: City, Length: 51290, dtype: object>"
      ]
     },
     "execution_count": 186,
     "metadata": {},
     "output_type": "execute_result"
    }
   ],
   "source": [
    "df.City.unique"
   ]
  },
  {
   "cell_type": "code",
   "execution_count": 187,
   "id": "ebf5bc2a",
   "metadata": {},
   "outputs": [],
   "source": [
    "df['City'] = df['City'].str.replace('[^A-Za-z0-9 ]', \"\")"
   ]
  },
  {
   "cell_type": "code",
   "execution_count": 188,
   "id": "a7c6da78",
   "metadata": {
    "scrolled": false
   },
   "outputs": [
    {
     "data": {
      "text/plain": [
       "<bound method Series.unique of 0        Constantine\n",
       "1        Wagga Wagga\n",
       "2           Budapest\n",
       "3          Stockholm\n",
       "4        Wagga Wagga\n",
       "            ...     \n",
       "51285      Fairfield\n",
       "51286         Agadir\n",
       "51287        Managua\n",
       "51288          Jurez\n",
       "51289       Loveland\n",
       "Name: City, Length: 51290, dtype: object>"
      ]
     },
     "execution_count": 188,
     "metadata": {},
     "output_type": "execute_result"
    }
   ],
   "source": [
    "df.City.unique"
   ]
  },
  {
   "cell_type": "code",
   "execution_count": 189,
   "id": "82a41df2",
   "metadata": {},
   "outputs": [
    {
     "data": {
      "text/plain": [
       "New York City     915\n",
       "Los Angeles       747\n",
       "Philadelphia      537\n",
       "San Francisco     510\n",
       "Santo Domingo     443\n",
       "                 ... \n",
       "Kurashiki           1\n",
       "Norfolk             1\n",
       "Torremolinos        1\n",
       "Melchor Ocampo      1\n",
       "Cedar Rapids        1\n",
       "Name: City, Length: 3635, dtype: int64"
      ]
     },
     "execution_count": 189,
     "metadata": {},
     "output_type": "execute_result"
    }
   ],
   "source": [
    "df.City.value_counts()"
   ]
  },
  {
   "cell_type": "code",
   "execution_count": 190,
   "id": "1fc99d22",
   "metadata": {
    "scrolled": true
   },
   "outputs": [
    {
     "data": {
      "text/plain": [
       "California                2001\n",
       "England                   1499\n",
       "New York                  1128\n",
       "Texas                      985\n",
       "Ile-de-France              981\n",
       "New South Wales            781\n",
       "North Rhine-Westphalia     719\n",
       "Queensland                 717\n",
       "San Salvador               615\n",
       "Pennsylvania               587\n",
       "National Capital           583\n",
       "Washington                 506\n",
       "Illinois                   492\n",
       "Victoria                   491\n",
       "Distrito Federal           469\n",
       "Name: State, dtype: int64"
      ]
     },
     "execution_count": 190,
     "metadata": {},
     "output_type": "execute_result"
    }
   ],
   "source": [
    "df.State.value_counts().head(15)"
   ]
  },
  {
   "cell_type": "code",
   "execution_count": 191,
   "id": "7d6278d0",
   "metadata": {
    "scrolled": false
   },
   "outputs": [
    {
     "data": {
      "image/png": "[encoded data removed]",
      "text/plain": [
       "<Figure size 432x288 with 1 Axes>"
      ]
     },
     "metadata": {},
     "output_type": "display_data"
    }
   ],
   "source": [
    "State = ['California', 'England', 'New York ', 'Texas', 'Ile-de-France','New South Wales','North Rhine-Westphalia','Queensland','San Salvador','Pennsylvania']\n",
    "counts = [2001, 1499, 1128, 985, 981, 781, 719, 717,615,587]\n",
    "\n",
    "plt.bar(State, counts, edgecolor='black', color='#EC5856')\n",
    "\n",
    "for i, g in enumerate(counts):\n",
    "    plt.text(i, g+13, f'{g}', ha='center', fontsize=14)\n",
    "    \n",
    "    \n",
    "sns.set_style('white')\n",
    "sns.despine()\n",
    "plt.xlabel('')\n",
    "plt.tight_layout();    \n",
    "plt.xlabel('State')\n",
    "plt.xticks(rotation=90)\n",
    "plt.yticks([])\n",
    "plt.title('the Most customer in which Stat',fontsize=16)\n",
    "\n",
    "sns.despine(left=True)"
   ]
  },
  {
   "cell_type": "code",
   "execution_count": 192,
   "id": "a31a7421",
   "metadata": {
    "scrolled": false
   },
   "outputs": [],
   "source": [
    "df2 = df.City.value_counts().agg(max)"
   ]
  },
  {
   "cell_type": "code",
   "execution_count": 193,
   "id": "98bd3743",
   "metadata": {},
   "outputs": [],
   "source": [
    "#sns.pairplot(df)"
   ]
  }
 ],
 "metadata": {
  "kernelspec": {
   "display_name": "Python 3",
   "language": "python",
   "name": "python3"
  },
  "language_info": {
   "codemirror_mode": {
    "name": "ipython",
    "version": 3
   },
   "file_extension": ".py",
   "mimetype": "text/x-python",
   "name": "python",
   "nbconvert_exporter": "python",
   "pygments_lexer": "ipython3",
   "version": "3.8.8"
  }
 },
 "nbformat": 4,
 "nbformat_minor": 5
}
